{
 "cells": [
  {
   "cell_type": "code",
   "execution_count": 2,
   "metadata": {},
   "outputs": [],
   "source": [
    "from Crypto import Random\n",
    "from Crypto.Cipher import AES\n",
    "import base64\n",
    "import import_ipynb\n",
    "import os\n",
    "\n",
    "def pad(s):\n",
    "    return s + b\"\\0\" * (AES.block_size - len(s) % AES.block_size)\n",
    "\n",
    "def encrypt(message, key, key_size=256):\n",
    "    message = pad(message)\n",
    "    iv = Random.new().read(AES.block_size)\n",
    "    cipher = AES.new(key, AES.MODE_CBC, iv)\n",
    "    return iv + cipher.encrypt(message)\n",
    "\n",
    "def decrypt(ciphertext, key):\n",
    "    iv = ciphertext[:AES.block_size]\n",
    "    cipher = AES.new(key, AES.MODE_CBC, iv)\n",
    "    plaintext = cipher.decrypt(ciphertext[AES.block_size:])\n",
    "    return plaintext.rstrip(b\"\\0\")\n",
    "\n",
    "def encrypt_file(file_name, key):\n",
    "    with open(file_name, 'rb') as fo:\n",
    "        plaintext = fo.read()\n",
    "    enc = encrypt(plaintext, key)\n",
    "    with open(file_name + \".enc\", 'wb') as fo:\n",
    "        fo.write(enc)\n",
    "\n",
    "def decrypt_file(file_name, key):\n",
    "    with open(file_name, 'rb') as fo:\n",
    "        ciphertext = fo.read()\n",
    "    dec = decrypt(ciphertext, key)\n",
    "    with open(file_name[:-4], 'wb') as fo:\n",
    "        fo.write(dec)\n",
    "\n",
    "\n",
    "key = b'\\xbf\\xc0\\x85)\\x10nc\\x94\\x02)j\\xdf\\xcb\\xc4\\x94\\x9d(\\x9e[EX\\xc8\\xd5\\xbfI{\\xa2$\\x05(\\xd5\\x18'\n",
    "\n",
    "#encrypt_file('sdf', key)\n",
    "#decrypt_file('to_enc.txt.enc', key)"
   ]
  },
  {
   "cell_type": "code",
   "execution_count": null,
   "metadata": {},
   "outputs": [],
   "source": []
  }
 ],
 "metadata": {
  "kernelspec": {
   "display_name": "Python 3",
   "language": "python",
   "name": "python3"
  },
  "language_info": {
   "codemirror_mode": {
    "name": "ipython",
    "version": 3
   },
   "file_extension": ".py",
   "mimetype": "text/x-python",
   "name": "python",
   "nbconvert_exporter": "python",
   "pygments_lexer": "ipython3",
   "version": "3.6.5"
  }
 },
 "nbformat": 4,
 "nbformat_minor": 2
}
